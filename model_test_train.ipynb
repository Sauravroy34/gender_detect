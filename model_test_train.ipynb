{
 "cells": [
  {
   "cell_type": "code",
   "execution_count": 28,
   "metadata": {},
   "outputs": [],
   "source": [
    "from tensorflow.keras import layers,models \n",
    "from tensorflow.keras.preprocessing.image import ImageDataGenerator\n",
    "import matplotlib.pyplot as plt\n"
   ]
  },
  {
   "cell_type": "code",
   "execution_count": 15,
   "metadata": {},
   "outputs": [
    {
     "name": "stdout",
     "output_type": "stream",
     "text": [
      "Found 47009 images belonging to 2 classes.\n",
      "Found 11649 images belonging to 2 classes.\n"
     ]
    }
   ],
   "source": [
    "#directory\n",
    "train_dir = \"Training/.\"\n",
    "valid_dir = \"Validation/.\"\n",
    "train_datagen = ImageDataGenerator(rescale=1./255,  \n",
    "                                   shear_range=0.2,  \n",
    "                                   horizontal_flip=True) \n",
    "train_generator = train_datagen.flow_from_directory(\n",
    "    train_dir,\n",
    "    color_mode = \"rgb\",\n",
    "    target_size=(150, 150), \n",
    "    batch_size=32,  \n",
    "    class_mode=\"binary\" \n",
    ")\n",
    "valid_datagen = ImageDataGenerator(rescale=1./255)\n",
    "\n",
    "valid_generator = valid_datagen.flow_from_directory(\n",
    "    valid_dir,\n",
    "    color_mode = \"rgb\",\n",
    "    target_size=(150,150),\n",
    "    batch_size = 32,\n",
    "    class_mode=\"binary\"\n",
    ")\n"
   ]
  },
  {
   "cell_type": "code",
   "execution_count": 21,
   "metadata": {},
   "outputs": [],
   "source": [
    "gen_cnn = models.Sequential([\n",
    "    #cnn \n",
    "    \n",
    "    layers.Conv2D(filters = 40,kernel_size =(3,3),padding = \"same\",activation=\"relu\",input_shape=(150,150,3)),\n",
    "    layers.MaxPooling2D((2,2)),\n",
    "    \n",
    "    \n",
    "    layers.Conv2D(filters = 20,kernel_size =(3,3),padding = \"same\",activation=\"relu\",input_shape=(80,80,3),) ,\n",
    "    layers.MaxPooling2D((2,2)),\n",
    "\n",
    "    layers.Conv2D(filters = 20,kernel_size =(3,3),padding = \"same\",activation=\"relu\",input_shape=(80,80,3),),\n",
    "    layers.MaxPooling2D((2,2)),\n",
    "    \n",
    "    layers.Conv2D(filters = 20,kernel_size =(3,3),padding = \"same\",activation=\"relu\",input_shape=(80,80,3),),\n",
    "    layers.MaxPooling2D((2,2)),\n",
    "    \n",
    "\n",
    "    #layers.Dropout(rate=0.2),\n",
    "    #dense\n",
    "\n",
    "    layers.Flatten(),\n",
    "    layers.Dense(32,activation=\"relu\"),\n",
    "    layers.Dense(2,activation=\"softmax\"),\n",
    "])"
   ]
  },
  {
   "cell_type": "code",
   "execution_count": 22,
   "metadata": {},
   "outputs": [],
   "source": [
    "step_for_train = train_generator.n//train_generator.batch_size\n",
    "step_for_valid = valid_generator.n//valid_generator.batch_size"
   ]
  },
  {
   "cell_type": "code",
   "execution_count": 23,
   "metadata": {},
   "outputs": [],
   "source": [
    "gen_cnn.compile(optimizer=\"adam\",loss=\"sparse_categorical_crossentropy\",metrics=[\"accuracy\"])"
   ]
  },
  {
   "cell_type": "code",
   "execution_count": 24,
   "metadata": {},
   "outputs": [
    {
     "name": "stderr",
     "output_type": "stream",
     "text": [
      "/tmp/ipykernel_4817/1398012094.py:1: UserWarning: `Model.fit_generator` is deprecated and will be removed in a future version. Please use `Model.fit`, which supports generators.\n",
      "  history = gen_cnn.fit_generator(generator=train_generator,\n"
     ]
    },
    {
     "name": "stdout",
     "output_type": "stream",
     "text": [
      "Epoch 1/10\n",
      "1469/1469 [==============================] - 450s 305ms/step - loss: 0.2721 - accuracy: 0.8836 - val_loss: 0.1663 - val_accuracy: 0.9356\n",
      "Epoch 2/10\n",
      "1469/1469 [==============================] - 375s 255ms/step - loss: 0.1596 - accuracy: 0.9404 - val_loss: 0.1326 - val_accuracy: 0.9512\n",
      "Epoch 3/10\n",
      "1469/1469 [==============================] - 345s 235ms/step - loss: 0.1408 - accuracy: 0.9477 - val_loss: 0.1145 - val_accuracy: 0.9560\n",
      "Epoch 4/10\n",
      "1469/1469 [==============================] - 359s 244ms/step - loss: 0.1256 - accuracy: 0.9544 - val_loss: 0.1053 - val_accuracy: 0.9609\n",
      "Epoch 5/10\n",
      "1469/1469 [==============================] - 372s 253ms/step - loss: 0.1183 - accuracy: 0.9571 - val_loss: 0.1174 - val_accuracy: 0.9549\n",
      "Epoch 6/10\n",
      "1469/1469 [==============================] - 354s 241ms/step - loss: 0.1124 - accuracy: 0.9599 - val_loss: 0.1077 - val_accuracy: 0.9597\n",
      "Epoch 7/10\n",
      "1469/1469 [==============================] - 360s 245ms/step - loss: 0.1061 - accuracy: 0.9619 - val_loss: 0.0971 - val_accuracy: 0.9632\n",
      "Epoch 8/10\n",
      "1469/1469 [==============================] - 354s 241ms/step - loss: 0.1023 - accuracy: 0.9626 - val_loss: 0.1000 - val_accuracy: 0.9651\n",
      "Epoch 9/10\n",
      "1469/1469 [==============================] - 361s 246ms/step - loss: 0.0955 - accuracy: 0.9652 - val_loss: 0.0995 - val_accuracy: 0.9644\n",
      "Epoch 10/10\n",
      "1469/1469 [==============================] - 360s 245ms/step - loss: 0.0940 - accuracy: 0.9655 - val_loss: 0.1024 - val_accuracy: 0.9610\n"
     ]
    }
   ],
   "source": [
    "history = gen_cnn.fit_generator(generator=train_generator,\n",
    "                    steps_per_epoch=step_for_train,\n",
    "                    validation_data=valid_generator,\n",
    "                    validation_steps=step_for_valid,\n",
    "                    epochs=10)"
   ]
  },
  {
   "cell_type": "code",
   "execution_count": 25,
   "metadata": {},
   "outputs": [
    {
     "data": {
      "text/plain": [
       "<matplotlib.legend.Legend at 0x72dcbb76e050>"
      ]
     },
     "execution_count": 25,
     "metadata": {},
     "output_type": "execute_result"
    },
    {
     "data": {
      "image/png": "[encoded data removed]",
      "text/plain": [
       "<Figure size 432x288 with 1 Axes>"
      ]
     },
     "metadata": {
      "needs_background": "light"
     },
     "output_type": "display_data"
    }
   ],
   "source": [
    "plt.plot(history.history['accuracy'], label='accuracy')\n",
    "plt.plot(history.history['val_accuracy'], label = 'val_accuracy')\n",
    "plt.xlabel('Epoch')\n",
    "plt.ylabel('Accuracy')\n",
    "plt.ylim([0.5, 1])\n",
    "plt.legend(loc='lower right')"
   ]
  },
  {
   "cell_type": "code",
   "execution_count": 26,
   "metadata": {},
   "outputs": [
    {
     "data": {
      "image/png": "[encoded data removed]",
      "text/plain": [
       "<Figure size 432x288 with 1 Axes>"
      ]
     },
     "metadata": {
      "needs_background": "light"
     },
     "output_type": "display_data"
    }
   ],
   "source": [
    "plt.plot(history.history['loss'], label='loss')\n",
    "plt.plot(history.history['val_loss'], label = 'val_loss')\n",
    "plt.xlabel('Epoch')\n",
    "plt.ylabel('loss')\n",
    "\n",
    "plt.legend(loc='lower right')\n",
    "plt.show()"
   ]
  }
 ],
 "metadata": {
  "kernelspec": {
   "display_name": "Python 3",
   "language": "python",
   "name": "python3"
  },
  "language_info": {
   "codemirror_mode": {
    "name": "ipython",
    "version": 3
   },
   "file_extension": ".py",
   "mimetype": "text/x-python",
   "name": "python",
   "nbconvert_exporter": "python",
   "pygments_lexer": "ipython3",
   "version": "3.10.12"
  }
 },
 "nbformat": 4,
 "nbformat_minor": 2
}
